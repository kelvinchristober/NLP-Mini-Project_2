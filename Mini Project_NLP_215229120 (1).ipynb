{
 "cells": [
  {
   "cell_type": "markdown",
   "id": "47bea644",
   "metadata": {},
   "source": [
    "NAME : KELVIN CHRISTOBER\n",
    "\n",
    "ROLL NO : 215229120"
   ]
  },
  {
   "cell_type": "markdown",
   "id": "86914516",
   "metadata": {
    "papermill": {
     "duration": 0.017989,
     "end_time": "2022-05-10T16:36:42.394547",
     "exception": false,
     "start_time": "2022-05-10T16:36:42.376558",
     "status": "completed"
    },
    "tags": []
   },
   "source": [
    "# First import library and data"
   ]
  },
  {
   "cell_type": "code",
   "execution_count": 1,
   "id": "7bbe2df5",
   "metadata": {
    "ExecuteTime": {
     "end_time": "2022-05-10T12:12:40.12613Z",
     "start_time": "2022-05-10T12:12:40.106186Z"
    },
    "execution": {
     "iopub.execute_input": "2022-05-10T16:36:42.434262Z",
     "iopub.status.busy": "2022-05-10T16:36:42.433594Z",
     "iopub.status.idle": "2022-05-10T16:36:43.671144Z",
     "shell.execute_reply": "2022-05-10T16:36:43.670023Z"
    },
    "papermill": {
     "duration": 1.26127,
     "end_time": "2022-05-10T16:36:43.673991",
     "exception": false,
     "start_time": "2022-05-10T16:36:42.412721",
     "status": "completed"
    },
    "tags": []
   },
   "outputs": [],
   "source": [
    "import pandas as pd\n",
    "import numpy as np\n",
    "import matplotlib.pyplot as plt\n",
    "from sklearn.preprocessing import LabelEncoder\n",
    "from sklearn.ensemble import RandomForestClassifier"
   ]
  },
  {
   "cell_type": "code",
   "execution_count": 2,
   "id": "d0a997ea",
   "metadata": {
    "ExecuteTime": {
     "end_time": "2022-05-10T12:12:40.173026Z",
     "start_time": "2022-05-10T12:12:40.128125Z"
    },
    "execution": {
     "iopub.execute_input": "2022-05-10T16:36:43.712110Z",
     "iopub.status.busy": "2022-05-10T16:36:43.711552Z",
     "iopub.status.idle": "2022-05-10T16:36:43.784123Z",
     "shell.execute_reply": "2022-05-10T16:36:43.783410Z"
    },
    "papermill": {
     "duration": 0.094154,
     "end_time": "2022-05-10T16:36:43.786263",
     "exception": false,
     "start_time": "2022-05-10T16:36:43.692109",
     "status": "completed"
    },
    "tags": []
   },
   "outputs": [],
   "source": [
    "X = pd.read_csv(\"train.csv\")\n",
    "X_test = pd.read_csv(\"test.csv\")"
   ]
  },
  {
   "cell_type": "code",
   "execution_count": 3,
   "id": "c1a33fd5",
   "metadata": {
    "ExecuteTime": {
     "end_time": "2022-05-10T12:12:40.19834Z",
     "start_time": "2022-05-10T12:12:40.175001Z"
    },
    "execution": {
     "iopub.execute_input": "2022-05-10T16:36:43.826639Z",
     "iopub.status.busy": "2022-05-10T16:36:43.826054Z",
     "iopub.status.idle": "2022-05-10T16:36:43.854583Z",
     "shell.execute_reply": "2022-05-10T16:36:43.853458Z"
    },
    "papermill": {
     "duration": 0.052739,
     "end_time": "2022-05-10T16:36:43.858634",
     "exception": false,
     "start_time": "2022-05-10T16:36:43.805895",
     "status": "completed"
    },
    "tags": []
   },
   "outputs": [
    {
     "data": {
      "text/html": [
       "<div>\n",
       "<style scoped>\n",
       "    .dataframe tbody tr th:only-of-type {\n",
       "        vertical-align: middle;\n",
       "    }\n",
       "\n",
       "    .dataframe tbody tr th {\n",
       "        vertical-align: top;\n",
       "    }\n",
       "\n",
       "    .dataframe thead th {\n",
       "        text-align: right;\n",
       "    }\n",
       "</style>\n",
       "<table border=\"1\" class=\"dataframe\">\n",
       "  <thead>\n",
       "    <tr style=\"text-align: right;\">\n",
       "      <th></th>\n",
       "      <th>id</th>\n",
       "      <th>keyword</th>\n",
       "      <th>location</th>\n",
       "      <th>text</th>\n",
       "      <th>target</th>\n",
       "    </tr>\n",
       "  </thead>\n",
       "  <tbody>\n",
       "    <tr>\n",
       "      <th>0</th>\n",
       "      <td>1</td>\n",
       "      <td>NaN</td>\n",
       "      <td>NaN</td>\n",
       "      <td>Our Deeds are the Reason of this #earthquake M...</td>\n",
       "      <td>1</td>\n",
       "    </tr>\n",
       "    <tr>\n",
       "      <th>1</th>\n",
       "      <td>4</td>\n",
       "      <td>NaN</td>\n",
       "      <td>NaN</td>\n",
       "      <td>Forest fire near La Ronge Sask. Canada</td>\n",
       "      <td>1</td>\n",
       "    </tr>\n",
       "    <tr>\n",
       "      <th>2</th>\n",
       "      <td>5</td>\n",
       "      <td>NaN</td>\n",
       "      <td>NaN</td>\n",
       "      <td>All residents asked to 'shelter in place' are ...</td>\n",
       "      <td>1</td>\n",
       "    </tr>\n",
       "    <tr>\n",
       "      <th>3</th>\n",
       "      <td>6</td>\n",
       "      <td>NaN</td>\n",
       "      <td>NaN</td>\n",
       "      <td>13,000 people receive #wildfires evacuation or...</td>\n",
       "      <td>1</td>\n",
       "    </tr>\n",
       "    <tr>\n",
       "      <th>4</th>\n",
       "      <td>7</td>\n",
       "      <td>NaN</td>\n",
       "      <td>NaN</td>\n",
       "      <td>Just got sent this photo from Ruby #Alaska as ...</td>\n",
       "      <td>1</td>\n",
       "    </tr>\n",
       "    <tr>\n",
       "      <th>...</th>\n",
       "      <td>...</td>\n",
       "      <td>...</td>\n",
       "      <td>...</td>\n",
       "      <td>...</td>\n",
       "      <td>...</td>\n",
       "    </tr>\n",
       "    <tr>\n",
       "      <th>7608</th>\n",
       "      <td>10869</td>\n",
       "      <td>NaN</td>\n",
       "      <td>NaN</td>\n",
       "      <td>Two giant cranes holding a bridge collapse int...</td>\n",
       "      <td>1</td>\n",
       "    </tr>\n",
       "    <tr>\n",
       "      <th>7609</th>\n",
       "      <td>10870</td>\n",
       "      <td>NaN</td>\n",
       "      <td>NaN</td>\n",
       "      <td>@aria_ahrary @TheTawniest The out of control w...</td>\n",
       "      <td>1</td>\n",
       "    </tr>\n",
       "    <tr>\n",
       "      <th>7610</th>\n",
       "      <td>10871</td>\n",
       "      <td>NaN</td>\n",
       "      <td>NaN</td>\n",
       "      <td>M1.94 [01:04 UTC]?5km S of Volcano Hawaii. htt...</td>\n",
       "      <td>1</td>\n",
       "    </tr>\n",
       "    <tr>\n",
       "      <th>7611</th>\n",
       "      <td>10872</td>\n",
       "      <td>NaN</td>\n",
       "      <td>NaN</td>\n",
       "      <td>Police investigating after an e-bike collided ...</td>\n",
       "      <td>1</td>\n",
       "    </tr>\n",
       "    <tr>\n",
       "      <th>7612</th>\n",
       "      <td>10873</td>\n",
       "      <td>NaN</td>\n",
       "      <td>NaN</td>\n",
       "      <td>The Latest: More Homes Razed by Northern Calif...</td>\n",
       "      <td>1</td>\n",
       "    </tr>\n",
       "  </tbody>\n",
       "</table>\n",
       "<p>7613 rows × 5 columns</p>\n",
       "</div>"
      ],
      "text/plain": [
       "         id keyword location  \\\n",
       "0         1     NaN      NaN   \n",
       "1         4     NaN      NaN   \n",
       "2         5     NaN      NaN   \n",
       "3         6     NaN      NaN   \n",
       "4         7     NaN      NaN   \n",
       "...     ...     ...      ...   \n",
       "7608  10869     NaN      NaN   \n",
       "7609  10870     NaN      NaN   \n",
       "7610  10871     NaN      NaN   \n",
       "7611  10872     NaN      NaN   \n",
       "7612  10873     NaN      NaN   \n",
       "\n",
       "                                                   text  target  \n",
       "0     Our Deeds are the Reason of this #earthquake M...       1  \n",
       "1                Forest fire near La Ronge Sask. Canada       1  \n",
       "2     All residents asked to 'shelter in place' are ...       1  \n",
       "3     13,000 people receive #wildfires evacuation or...       1  \n",
       "4     Just got sent this photo from Ruby #Alaska as ...       1  \n",
       "...                                                 ...     ...  \n",
       "7608  Two giant cranes holding a bridge collapse int...       1  \n",
       "7609  @aria_ahrary @TheTawniest The out of control w...       1  \n",
       "7610  M1.94 [01:04 UTC]?5km S of Volcano Hawaii. htt...       1  \n",
       "7611  Police investigating after an e-bike collided ...       1  \n",
       "7612  The Latest: More Homes Razed by Northern Calif...       1  \n",
       "\n",
       "[7613 rows x 5 columns]"
      ]
     },
     "execution_count": 3,
     "metadata": {},
     "output_type": "execute_result"
    }
   ],
   "source": [
    "X"
   ]
  },
  {
   "cell_type": "code",
   "execution_count": 4,
   "id": "cc968f97",
   "metadata": {
    "ExecuteTime": {
     "end_time": "2022-05-10T12:12:40.213482Z",
     "start_time": "2022-05-10T12:12:40.201664Z"
    },
    "execution": {
     "iopub.execute_input": "2022-05-10T16:36:43.900522Z",
     "iopub.status.busy": "2022-05-10T16:36:43.900250Z",
     "iopub.status.idle": "2022-05-10T16:36:43.914199Z",
     "shell.execute_reply": "2022-05-10T16:36:43.913310Z"
    },
    "papermill": {
     "duration": 0.037149,
     "end_time": "2022-05-10T16:36:43.916881",
     "exception": false,
     "start_time": "2022-05-10T16:36:43.879732",
     "status": "completed"
    },
    "tags": []
   },
   "outputs": [
    {
     "data": {
      "text/plain": [
       "fatalities               45\n",
       "deluge                   42\n",
       "armageddon               42\n",
       "sinking                  41\n",
       "damage                   41\n",
       "                         ..\n",
       "forest%20fire            19\n",
       "epicentre                12\n",
       "threat                   11\n",
       "inundation               10\n",
       "radiation%20emergency     9\n",
       "Name: keyword, Length: 221, dtype: int64"
      ]
     },
     "execution_count": 4,
     "metadata": {},
     "output_type": "execute_result"
    }
   ],
   "source": [
    "X[\"keyword\"].value_counts()"
   ]
  },
  {
   "cell_type": "code",
   "execution_count": 5,
   "id": "1ab07788",
   "metadata": {
    "ExecuteTime": {
     "end_time": "2022-05-10T12:12:40.232107Z",
     "start_time": "2022-05-10T12:12:40.213482Z"
    },
    "execution": {
     "iopub.execute_input": "2022-05-10T16:36:43.963746Z",
     "iopub.status.busy": "2022-05-10T16:36:43.963395Z",
     "iopub.status.idle": "2022-05-10T16:36:43.974655Z",
     "shell.execute_reply": "2022-05-10T16:36:43.973733Z"
    },
    "papermill": {
     "duration": 0.037982,
     "end_time": "2022-05-10T16:36:43.977192",
     "exception": false,
     "start_time": "2022-05-10T16:36:43.939210",
     "status": "completed"
    },
    "tags": []
   },
   "outputs": [
    {
     "data": {
      "text/plain": [
       "USA                             104\n",
       "New York                         71\n",
       "United States                    50\n",
       "London                           45\n",
       "Canada                           29\n",
       "                               ... \n",
       "Sevier County.                    1\n",
       "UK & Ibiza                        1\n",
       "6                                 1\n",
       "Salt Lake City, Utah              1\n",
       "wherever-the-fuck washington      1\n",
       "Name: location, Length: 3341, dtype: int64"
      ]
     },
     "execution_count": 5,
     "metadata": {},
     "output_type": "execute_result"
    }
   ],
   "source": [
    "X[\"location\"].value_counts()"
   ]
  },
  {
   "cell_type": "code",
   "execution_count": 6,
   "id": "25617533",
   "metadata": {
    "ExecuteTime": {
     "end_time": "2022-05-10T12:12:40.245536Z",
     "start_time": "2022-05-10T12:12:40.234103Z"
    },
    "execution": {
     "iopub.execute_input": "2022-05-10T16:36:44.022205Z",
     "iopub.status.busy": "2022-05-10T16:36:44.021900Z",
     "iopub.status.idle": "2022-05-10T16:36:44.029465Z",
     "shell.execute_reply": "2022-05-10T16:36:44.028407Z"
    },
    "papermill": {
     "duration": 0.032364,
     "end_time": "2022-05-10T16:36:44.031602",
     "exception": false,
     "start_time": "2022-05-10T16:36:43.999238",
     "status": "completed"
    },
    "tags": []
   },
   "outputs": [
    {
     "data": {
      "text/plain": [
       "61"
      ]
     },
     "execution_count": 6,
     "metadata": {},
     "output_type": "execute_result"
    }
   ],
   "source": [
    "X[\"keyword\"].isna().sum()"
   ]
  },
  {
   "cell_type": "code",
   "execution_count": 7,
   "id": "2d7c688b",
   "metadata": {
    "ExecuteTime": {
     "end_time": "2022-05-10T12:12:40.256011Z",
     "start_time": "2022-05-10T12:12:40.245536Z"
    },
    "execution": {
     "iopub.execute_input": "2022-05-10T16:36:44.079421Z",
     "iopub.status.busy": "2022-05-10T16:36:44.078478Z",
     "iopub.status.idle": "2022-05-10T16:36:44.086659Z",
     "shell.execute_reply": "2022-05-10T16:36:44.085204Z"
    },
    "papermill": {
     "duration": 0.034568,
     "end_time": "2022-05-10T16:36:44.089330",
     "exception": false,
     "start_time": "2022-05-10T16:36:44.054762",
     "status": "completed"
    },
    "tags": []
   },
   "outputs": [
    {
     "data": {
      "text/plain": [
       "2533"
      ]
     },
     "execution_count": 7,
     "metadata": {},
     "output_type": "execute_result"
    }
   ],
   "source": [
    "X[\"location\"].isna().sum()"
   ]
  },
  {
   "cell_type": "code",
   "execution_count": 18,
   "id": "36bbee9a",
   "metadata": {
    "papermill": {
     "duration": 0.020104,
     "end_time": "2022-05-10T16:36:44.172601",
     "exception": false,
     "start_time": "2022-05-10T16:36:44.152497",
     "status": "completed"
    },
    "tags": []
   },
   "outputs": [],
   "source": [
    "# Keyword, Location correlation with target"
   ]
  },
  {
   "cell_type": "code",
   "execution_count": 8,
   "id": "07d1ec34",
   "metadata": {
    "ExecuteTime": {
     "end_time": "2022-05-10T12:12:40.272016Z",
     "start_time": "2022-05-10T12:12:40.257299Z"
    },
    "execution": {
     "iopub.execute_input": "2022-05-10T16:36:44.216814Z",
     "iopub.status.busy": "2022-05-10T16:36:44.216286Z",
     "iopub.status.idle": "2022-05-10T16:36:44.224184Z",
     "shell.execute_reply": "2022-05-10T16:36:44.223063Z"
    },
    "papermill": {
     "duration": 0.033403,
     "end_time": "2022-05-10T16:36:44.226753",
     "exception": false,
     "start_time": "2022-05-10T16:36:44.193350",
     "status": "completed"
    },
    "tags": []
   },
   "outputs": [],
   "source": [
    "k_encoder = LabelEncoder()\n",
    "X[\"keyword\"] = k_encoder.fit_transform(X[\"keyword\"])"
   ]
  },
  {
   "cell_type": "code",
   "execution_count": 28,
   "id": "193be658",
   "metadata": {
    "ExecuteTime": {
     "end_time": "2022-05-10T12:12:40.416112Z",
     "start_time": "2022-05-10T12:12:40.272016Z"
    },
    "execution": {
     "iopub.execute_input": "2022-05-10T16:36:44.271570Z",
     "iopub.status.busy": "2022-05-10T16:36:44.271135Z",
     "iopub.status.idle": "2022-05-10T16:36:44.554729Z",
     "shell.execute_reply": "2022-05-10T16:36:44.553656Z"
    },
    "papermill": {
     "duration": 0.308366,
     "end_time": "2022-05-10T16:36:44.557200",
     "exception": false,
     "start_time": "2022-05-10T16:36:44.248834",
     "status": "completed"
    },
    "tags": []
   },
   "outputs": [
    {
     "data": {
      "image/png": "[encoded data removed]",
      "text/plain": [
       "<Figure size 864x576 with 1 Axes>"
      ]
     },
     "metadata": {
      "needs_background": "light"
     },
     "output_type": "display_data"
    }
   ],
   "source": [
    "plt.figure(figsize=(12,8))\n",
    "plt.ylim(0, 550)\n",
    "plt.hist(X[\"keyword\"][X[\"target\"]==0], alpha=0.3, label=\"0\")\n",
    "plt.hist(X[\"keyword\"][X[\"target\"]==1], alpha=0.3, label=\"1\")\n",
    "plt.legend()\n",
    "plt.show()"
   ]
  },
  {
   "cell_type": "code",
   "execution_count": 10,
   "id": "2d7578df",
   "metadata": {
    "ExecuteTime": {
     "end_time": "2022-05-10T12:12:40.435715Z",
     "start_time": "2022-05-10T12:12:40.419072Z"
    },
    "execution": {
     "iopub.execute_input": "2022-05-10T16:36:44.645863Z",
     "iopub.status.busy": "2022-05-10T16:36:44.645557Z",
     "iopub.status.idle": "2022-05-10T16:36:44.659343Z",
     "shell.execute_reply": "2022-05-10T16:36:44.658192Z"
    },
    "papermill": {
     "duration": 0.038907,
     "end_time": "2022-05-10T16:36:44.661449",
     "exception": false,
     "start_time": "2022-05-10T16:36:44.622542",
     "status": "completed"
    },
    "tags": []
   },
   "outputs": [],
   "source": [
    "l_encoder = LabelEncoder()\n",
    "X[\"location\"] = l_encoder.fit_transform(X[\"location\"])"
   ]
  },
  {
   "cell_type": "code",
   "execution_count": 20,
   "id": "564b15c7",
   "metadata": {
    "ExecuteTime": {
     "end_time": "2022-05-10T12:12:40.57943Z",
     "start_time": "2022-05-10T12:12:40.437706Z"
    },
    "execution": {
     "iopub.execute_input": "2022-05-10T16:36:44.707252Z",
     "iopub.status.busy": "2022-05-10T16:36:44.706959Z",
     "iopub.status.idle": "2022-05-10T16:36:44.953530Z",
     "shell.execute_reply": "2022-05-10T16:36:44.952840Z"
    },
    "papermill": {
     "duration": 0.271938,
     "end_time": "2022-05-10T16:36:44.955422",
     "exception": false,
     "start_time": "2022-05-10T16:36:44.683484",
     "status": "completed"
    },
    "tags": []
   },
   "outputs": [
    {
     "data": {
      "image/png": "[encoded data removed]",
      "text/plain": [
       "<Figure size 864x576 with 1 Axes>"
      ]
     },
     "metadata": {
      "needs_background": "light"
     },
     "output_type": "display_data"
    }
   ],
   "source": [
    "plt.figure(figsize=(12,8))\n",
    "plt.ylim(0, 2000)\n",
    "plt.hist(X[\"location\"][X[\"target\"]==0], alpha=0.3, label=\"0\")\n",
    "plt.hist(X[\"location\"][X[\"target\"]==1], alpha=0.3, label=\"1\")\n",
    "plt.show()"
   ]
  },
  {
   "cell_type": "code",
   "execution_count": 12,
   "id": "84b61df7",
   "metadata": {
    "ExecuteTime": {
     "end_time": "2022-05-10T12:12:40.70229Z",
     "start_time": "2022-05-10T12:12:40.580325Z"
    },
    "execution": {
     "iopub.execute_input": "2022-05-10T16:36:45.048507Z",
     "iopub.status.busy": "2022-05-10T16:36:45.047940Z",
     "iopub.status.idle": "2022-05-10T16:36:45.278154Z",
     "shell.execute_reply": "2022-05-10T16:36:45.277384Z"
    },
    "papermill": {
     "duration": 0.256622,
     "end_time": "2022-05-10T16:36:45.280222",
     "exception": false,
     "start_time": "2022-05-10T16:36:45.023600",
     "status": "completed"
    },
    "tags": []
   },
   "outputs": [
    {
     "data": {
      "image/png": "[encoded data removed]",
      "text/plain": [
       "<Figure size 1008x720 with 1 Axes>"
      ]
     },
     "metadata": {
      "needs_background": "light"
     },
     "output_type": "display_data"
    }
   ],
   "source": [
    "plt.figure(figsize=(14, 10))\n",
    "plt.ylim(0, 500)\n",
    "plt.hist(X[\"location\"][X[\"target\"]==0], alpha=0.3, label=\"0\")\n",
    "plt.hist(X[\"location\"][X[\"target\"]==1], alpha=0.3, label=\"1\")\n",
    "plt.show()"
   ]
  },
  {
   "cell_type": "code",
   "execution_count": null,
   "id": "fee40f1f",
   "metadata": {
    "papermill": {
     "duration": 0.022954,
     "end_time": "2022-05-10T16:36:45.374238",
     "exception": false,
     "start_time": "2022-05-10T16:36:45.351284",
     "status": "completed"
    },
    "tags": []
   },
   "outputs": [],
   "source": [
    "# Make and Train model "
   ]
  },
  {
   "cell_type": "code",
   "execution_count": 13,
   "id": "3441df7e",
   "metadata": {
    "ExecuteTime": {
     "end_time": "2022-05-10T12:12:41.369196Z",
     "start_time": "2022-05-10T12:12:40.70229Z"
    },
    "execution": {
     "iopub.execute_input": "2022-05-10T16:36:45.425866Z",
     "iopub.status.busy": "2022-05-10T16:36:45.425305Z",
     "iopub.status.idle": "2022-05-10T16:36:46.448311Z",
     "shell.execute_reply": "2022-05-10T16:36:46.447364Z"
    },
    "papermill": {
     "duration": 1.052831,
     "end_time": "2022-05-10T16:36:46.450634",
     "exception": false,
     "start_time": "2022-05-10T16:36:45.397803",
     "status": "completed"
    },
    "tags": []
   },
   "outputs": [
    {
     "data": {
      "text/plain": [
       "RandomForestClassifier()"
      ]
     },
     "execution_count": 13,
     "metadata": {},
     "output_type": "execute_result"
    }
   ],
   "source": [
    "model = RandomForestClassifier()\n",
    "model.fit(X[[\"keyword\", \"location\"]], X[\"target\"])"
   ]
  },
  {
   "cell_type": "code",
   "execution_count": 14,
   "id": "bf77d164",
   "metadata": {
    "ExecuteTime": {
     "end_time": "2022-05-10T12:12:41.400643Z",
     "start_time": "2022-05-10T12:12:41.370314Z"
    },
    "execution": {
     "iopub.execute_input": "2022-05-10T16:36:46.501890Z",
     "iopub.status.busy": "2022-05-10T16:36:46.500982Z",
     "iopub.status.idle": "2022-05-10T16:36:46.522358Z",
     "shell.execute_reply": "2022-05-10T16:36:46.521751Z"
    },
    "papermill": {
     "duration": 0.048602,
     "end_time": "2022-05-10T16:36:46.524443",
     "exception": false,
     "start_time": "2022-05-10T16:36:46.475841",
     "status": "completed"
    },
    "tags": []
   },
   "outputs": [
    {
     "data": {
      "text/plain": [
       "array([0.53688916, 0.46311084])"
      ]
     },
     "execution_count": 14,
     "metadata": {},
     "output_type": "execute_result"
    }
   ],
   "source": [
    "model.feature_importances_"
   ]
  },
  {
   "cell_type": "code",
   "execution_count": 15,
   "id": "e6ff433d",
   "metadata": {
    "ExecuteTime": {
     "end_time": "2022-05-10T12:13:05.857068Z",
     "start_time": "2022-05-10T12:12:41.402197Z"
    },
    "execution": {
     "iopub.execute_input": "2022-05-10T16:36:46.672838Z",
     "iopub.status.busy": "2022-05-10T16:36:46.672339Z",
     "iopub.status.idle": "2022-05-10T16:36:47.745086Z",
     "shell.execute_reply": "2022-05-10T16:36:47.744238Z"
    },
    "papermill": {
     "duration": 1.100968,
     "end_time": "2022-05-10T16:36:47.747843",
     "exception": false,
     "start_time": "2022-05-10T16:36:46.646875",
     "status": "completed"
    },
    "tags": []
   },
   "outputs": [
    {
     "name": "stderr",
     "output_type": "stream",
     "text": [
      "<ipython-input-15-705d71a7120f>:6: SettingWithCopyWarning: \n",
      "A value is trying to be set on a copy of a slice from a DataFrame\n",
      "\n",
      "See the caveats in the documentation: https://pandas.pydata.org/pandas-docs/stable/user_guide/indexing.html#returning-a-view-versus-a-copy\n",
      "  X_test[\"location\"][i] = np.nan\n"
     ]
    }
   ],
   "source": [
    "i=0\n",
    "for i in range(len(X_test[\"location\"])):\n",
    "    if X_test[\"location\"][i] in l_encoder.classes_:\n",
    "        pass\n",
    "    else:\n",
    "        X_test[\"location\"][i] = np.nan"
   ]
  },
  {
   "cell_type": "code",
   "execution_count": 16,
   "id": "f095a1f3",
   "metadata": {
    "ExecuteTime": {
     "end_time": "2022-05-10T12:13:05.880483Z",
     "start_time": "2022-05-10T12:13:05.857068Z"
    },
    "execution": {
     "iopub.execute_input": "2022-05-10T16:36:47.805706Z",
     "iopub.status.busy": "2022-05-10T16:36:47.805004Z",
     "iopub.status.idle": "2022-05-10T16:36:47.816046Z",
     "shell.execute_reply": "2022-05-10T16:36:47.815387Z"
    },
    "papermill": {
     "duration": 0.042655,
     "end_time": "2022-05-10T16:36:47.818176",
     "exception": false,
     "start_time": "2022-05-10T16:36:47.775521",
     "status": "completed"
    },
    "tags": []
   },
   "outputs": [],
   "source": [
    "X_test[\"keyword\"] = k_encoder.transform(X_test[\"keyword\"])\n",
    "X_test[\"location\"] = l_encoder.transform(X_test[\"location\"])"
   ]
  },
  {
   "cell_type": "markdown",
   "id": "976fde84",
   "metadata": {
    "papermill": {
     "duration": 0.027365,
     "end_time": "2022-05-10T16:36:47.873058",
     "exception": false,
     "start_time": "2022-05-10T16:36:47.845693",
     "status": "completed"
    },
    "tags": []
   },
   "source": [
    "# Save submission"
   ]
  },
  {
   "cell_type": "code",
   "execution_count": 24,
   "id": "fb9a8c88",
   "metadata": {
    "ExecuteTime": {
     "end_time": "2022-05-10T12:13:05.896377Z",
     "start_time": "2022-05-10T12:13:05.882085Z"
    },
    "execution": {
     "iopub.execute_input": "2022-05-10T16:36:47.929389Z",
     "iopub.status.busy": "2022-05-10T16:36:47.928918Z",
     "iopub.status.idle": "2022-05-10T16:36:47.941111Z",
     "shell.execute_reply": "2022-05-10T16:36:47.939561Z"
    },
    "papermill": {
     "duration": 0.043307,
     "end_time": "2022-05-10T16:36:47.943251",
     "exception": false,
     "start_time": "2022-05-10T16:36:47.899944",
     "status": "completed"
    },
    "tags": []
   },
   "outputs": [],
   "source": [
    "sample_submission = pd.read_csv(\"sample_submission.csv\")"
   ]
  },
  {
   "cell_type": "code",
   "execution_count": 25,
   "id": "469d7db0",
   "metadata": {
    "ExecuteTime": {
     "end_time": "2022-05-10T12:13:05.964418Z",
     "start_time": "2022-05-10T12:13:05.898397Z"
    },
    "execution": {
     "iopub.execute_input": "2022-05-10T16:36:48.002014Z",
     "iopub.status.busy": "2022-05-10T16:36:48.000847Z",
     "iopub.status.idle": "2022-05-10T16:36:48.076503Z",
     "shell.execute_reply": "2022-05-10T16:36:48.075710Z"
    },
    "papermill": {
     "duration": 0.107378,
     "end_time": "2022-05-10T16:36:48.078924",
     "exception": false,
     "start_time": "2022-05-10T16:36:47.971546",
     "status": "completed"
    },
    "tags": []
   },
   "outputs": [],
   "source": [
    "sample_submission[\"target\"] = model.predict(X_test[[\"keyword\", \"location\"]])"
   ]
  },
  {
   "cell_type": "code",
   "execution_count": 26,
   "id": "5c7cee67",
   "metadata": {
    "ExecuteTime": {
     "end_time": "2022-05-10T12:13:05.997724Z",
     "start_time": "2022-05-10T12:13:05.967354Z"
    },
    "execution": {
     "iopub.execute_input": "2022-05-10T16:36:48.134644Z",
     "iopub.status.busy": "2022-05-10T16:36:48.133400Z",
     "iopub.status.idle": "2022-05-10T16:36:48.144635Z",
     "shell.execute_reply": "2022-05-10T16:36:48.143895Z"
    },
    "papermill": {
     "duration": 0.041533,
     "end_time": "2022-05-10T16:36:48.146800",
     "exception": false,
     "start_time": "2022-05-10T16:36:48.105267",
     "status": "completed"
    },
    "tags": []
   },
   "outputs": [],
   "source": [
    "sample_submission.to_csv(\"submission.csv\", index=None)"
   ]
  }
 ],
 "metadata": {
  "kernelspec": {
   "display_name": "Python 3",
   "language": "python",
   "name": "python3"
  },
  "language_info": {
   "codemirror_mode": {
    "name": "ipython",
    "version": 3
   },
   "file_extension": ".py",
   "mimetype": "text/x-python",
   "name": "python",
   "nbconvert_exporter": "python",
   "pygments_lexer": "ipython3",
   "version": "3.8.8"
  },
  "papermill": {
   "default_parameters": {},
   "duration": 15.668993,
   "end_time": "2022-05-10T16:36:49.046518",
   "environment_variables": {},
   "exception": null,
   "input_path": "__notebook__.ipynb",
   "output_path": "__notebook__.ipynb",
   "parameters": {},
   "start_time": "2022-05-10T16:36:33.377525",
   "version": "2.3.4"
  }
 },
 "nbformat": 4,
 "nbformat_minor": 5
}
